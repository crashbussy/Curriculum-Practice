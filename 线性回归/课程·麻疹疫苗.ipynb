{
 "cells": [
  {
   "cell_type": "code",
   "execution_count": 4,
   "id": "64e26f9f",
   "metadata": {},
   "outputs": [
    {
     "data": {
      "text/html": [
       "<div>\n",
       "<style scoped>\n",
       "    .dataframe tbody tr th:only-of-type {\n",
       "        vertical-align: middle;\n",
       "    }\n",
       "\n",
       "    .dataframe tbody tr th {\n",
       "        vertical-align: top;\n",
       "    }\n",
       "\n",
       "    .dataframe thead th {\n",
       "        text-align: right;\n",
       "    }\n",
       "</style>\n",
       "<table border=\"1\" class=\"dataframe\">\n",
       "  <thead>\n",
       "    <tr style=\"text-align: right;\">\n",
       "      <th></th>\n",
       "      <th>year</th>\n",
       "      <th>values</th>\n",
       "    </tr>\n",
       "  </thead>\n",
       "  <tbody>\n",
       "    <tr>\n",
       "      <th>0</th>\n",
       "      <td>1980</td>\n",
       "      <td>0.340193</td>\n",
       "    </tr>\n",
       "    <tr>\n",
       "      <th>1</th>\n",
       "      <td>1981</td>\n",
       "      <td>0.362339</td>\n",
       "    </tr>\n",
       "    <tr>\n",
       "      <th>2</th>\n",
       "      <td>1982</td>\n",
       "      <td>0.909039</td>\n",
       "    </tr>\n",
       "    <tr>\n",
       "      <th>3</th>\n",
       "      <td>1983</td>\n",
       "      <td>52.102790</td>\n",
       "    </tr>\n",
       "    <tr>\n",
       "      <th>4</th>\n",
       "      <td>1984</td>\n",
       "      <td>59.145265</td>\n",
       "    </tr>\n",
       "  </tbody>\n",
       "</table>\n",
       "</div>"
      ],
      "text/plain": [
       "   year     values\n",
       "0  1980   0.340193\n",
       "1  1981   0.362339\n",
       "2  1982   0.909039\n",
       "3  1983  52.102790\n",
       "4  1984  59.145265"
      ]
     },
     "execution_count": 4,
     "metadata": {},
     "output_type": "execute_result"
    }
   ],
   "source": [
    "import pandas as pd\n",
    "df = pd.read_csv('East Asia & Pacific (excluding high income).csv')\n",
    "df.head()\n",
    "#注意截取的是东亚和太平洋国家的综合接种率"
   ]
  },
  {
   "cell_type": "code",
   "execution_count": 6,
   "id": "2a136c62",
   "metadata": {},
   "outputs": [],
   "source": [
    "#分割数据集，70%用于训练，30%用于测试。\n",
    "split_num = int(len(df)*0.7)\n",
    "train_df = df[split_num:]\n",
    "test_df = df[split_num:]\n",
    "X_train = train_df['year'].values\n",
    "y_train = train_df['values'].values\n",
    "\n",
    "X_test = test_df['year'].values\n",
    "y_test = test_df['values'].values"
   ]
  },
  {
   "cell_type": "code",
   "execution_count": 13,
   "id": "861d09a2",
   "metadata": {},
   "outputs": [
    {
     "data": {
      "text/plain": [
       "array([[93.1099514 ],\n",
       "       [93.21850553],\n",
       "       [93.32705965],\n",
       "       [93.43561377],\n",
       "       [93.5441679 ],\n",
       "       [93.65272202],\n",
       "       [93.76127615],\n",
       "       [93.86983027],\n",
       "       [93.97838439],\n",
       "       [94.08693852],\n",
       "       [94.19549264],\n",
       "       [94.30404677]])"
      ]
     },
     "execution_count": 13,
     "metadata": {},
     "output_type": "execute_result"
    }
   ],
   "source": [
    "from sklearn.linear_model import LinearRegression\n",
    "model = LinearRegression()\n",
    "model.fit(X_train.reshape(len(X_train),1),y_train.reshape(len(y_train),1))\n",
    "results = model.predict(X_test.reshape(len(X_test),1))\n",
    "results"
   ]
  },
  {
   "cell_type": "code",
   "execution_count": 15,
   "id": "46c3598f",
   "metadata": {},
   "outputs": [
    {
     "name": "stdout",
     "output_type": "stream",
     "text": [
      "线性回归平均绝对误差:  0.6067723858333309\n",
      "线性回归均方误差:  0.5188588602114592\n"
     ]
    }
   ],
   "source": [
    "from sklearn.metrics import mean_absolute_error\n",
    "from sklearn.metrics import mean_squared_error\n",
    "print(\"线性回归平均绝对误差: \", mean_absolute_error(y_test,results.flatten()))\n",
    "print(\"线性回归均方误差: \", mean_squared_error(y_test,results.flatten()))"
   ]
  },
  {
   "cell_type": "code",
   "execution_count": 16,
   "id": "a273d817",
   "metadata": {},
   "outputs": [
    {
     "name": "stdout",
     "output_type": "stream",
     "text": [
      "2次线性回归平均绝对误差:  0.17547811053818899\n",
      "2次线性回归均方误差:  0.053911291881196394\n"
     ]
    }
   ],
   "source": [
    "from sklearn.preprocessing import PolynomialFeatures as pf\n",
    "poly_features_2 = pf(degree=2,include_bias=False)\n",
    "poly_X_train_2 = poly_features_2.fit_transform(X_train.reshape(len(X_test),1))\n",
    "poly_X_test_2 = poly_features_2.fit_transform(X_test.reshape(len(X_test),1))\n",
    "model = LinearRegression()\n",
    "model.fit(poly_X_train_2, y_train.reshape(len(X_train),1))\n",
    "results_2 = model.predict(poly_X_test_2)\n",
    "results_2.flatten()\n",
    "print(\"2次线性回归平均绝对误差: \", mean_absolute_error(y_test,results_2.flatten()))\n",
    "print(\"2次线性回归均方误差: \", mean_squared_error(y_test,results_2.flatten()))"
   ]
  },
  {
   "cell_type": "code",
   "execution_count": null,
   "id": "fd3d2c82",
   "metadata": {},
   "outputs": [],
   "source": []
  }
 ],
 "metadata": {
  "kernelspec": {
   "display_name": "Python [conda env:pytorch] *",
   "language": "python",
   "name": "conda-env-pytorch-py"
  },
  "language_info": {
   "codemirror_mode": {
    "name": "ipython",
    "version": 3
   },
   "file_extension": ".py",
   "mimetype": "text/x-python",
   "name": "python",
   "nbconvert_exporter": "python",
   "pygments_lexer": "ipython3",
   "version": "3.6.13"
  }
 },
 "nbformat": 4,
 "nbformat_minor": 5
}
