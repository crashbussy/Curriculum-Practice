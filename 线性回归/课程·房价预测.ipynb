{
 "cells": [
  {
   "cell_type": "code",
   "execution_count": 1,
   "id": "9b93b55a",
   "metadata": {},
   "outputs": [],
   "source": [
    "from sklearn import datasets  # 导入sklearn中集成的数据集\n",
    "import pandas as pd  # 导入pandas\n",
    "import matplotlib.pyplot as plt"
   ]
  },
  {
   "cell_type": "code",
   "execution_count": 9,
   "id": "5997b243",
   "metadata": {},
   "outputs": [],
   "source": [
    "boston = datasets.load_boston()"
   ]
  },
  {
   "cell_type": "code",
   "execution_count": 28,
   "id": "8808de9e",
   "metadata": {},
   "outputs": [],
   "source": [
    "cols_list = ['CRIM', 'ZN', 'INDUS', 'CHAS', 'NOX', 'RM', 'AGE', 'DIS', 'RAD', 'TAX', 'PTRATIO', 'B', 'LSTAT']\n",
    "df_boston = pd.DataFrame(boston.data, columns=cols_list)\n",
    "df_boston['MEDV'] = boston.target\n",
    "target = df_boston['MEDV']"
   ]
  },
  {
   "cell_type": "code",
   "execution_count": 21,
   "id": "33d7a466",
   "metadata": {},
   "outputs": [],
   "source": [
    "df_boston.to_csv('df_boston.csv', index=False)"
   ]
  },
  {
   "cell_type": "code",
   "execution_count": 24,
   "id": "9f54c3a8",
   "metadata": {},
   "outputs": [],
   "source": [
    "features = df_boston[['CRIM','RM','LSTAT']]"
   ]
  },
  {
   "cell_type": "code",
   "execution_count": 29,
   "id": "fdf33939",
   "metadata": {},
   "outputs": [],
   "source": [
    "#分割数据集，70%用于训练，30%用于测试。\n",
    "split_num = int(len(features)*0.7)\n",
    "X_train = features[:split_num]\n",
    "y_train = target[:split_num]\n",
    "\n",
    "X_test = features[:split_num]\n",
    "y_test = target[:split_num]"
   ]
  },
  {
   "cell_type": "code",
   "execution_count": 31,
   "id": "0338417b",
   "metadata": {},
   "outputs": [
    {
     "data": {
      "text/plain": [
       "(array([ 0.69979497, 10.13564218, -0.20532653]), -38.000969889690325)"
      ]
     },
     "execution_count": 31,
     "metadata": {},
     "output_type": "execute_result"
    }
   ],
   "source": [
    "#利用sklearn模型线性回归\n",
    "from sklearn.linear_model import LinearRegression\n",
    "\n",
    "model = LinearRegression()\n",
    "model.fit(X_train, y_train)\n",
    "model.coef_,model.intercept_"
   ]
  },
  {
   "cell_type": "code",
   "execution_count": 35,
   "id": "958ba7e5",
   "metadata": {},
   "outputs": [],
   "source": [
    "preds = model.predict(X_test)\n"
   ]
  },
  {
   "cell_type": "code",
   "execution_count": 33,
   "id": "d7b89dbc",
   "metadata": {},
   "outputs": [],
   "source": [
    "#评估训练效果  绝对误差，均分误差\n",
    "import numpy as np\n",
    "def mae_value(y_true, y_pred):\n",
    "    n = len(y_true)\n",
    "    mae = sum(np.abs(y_true-y_pred))/n\n",
    "    return mae\n",
    "def mse_value(y_true, y_pred):\n",
    "    n = len(y_true)\n",
    "    mse = sum(np.square(y_true-y_pred))/n\n",
    "    return mse"
   ]
  },
  {
   "cell_type": "code",
   "execution_count": 34,
   "id": "e134d239",
   "metadata": {},
   "outputs": [
    {
     "name": "stdout",
     "output_type": "stream",
     "text": [
      "MAE:  2.8207877341607572\n",
      "MSE:  13.435465962234698\n"
     ]
    }
   ],
   "source": [
    "mae = mae_value(y_test.values,preds)\n",
    "mse = mse_value(y_test.values,preds)\n",
    "print('MAE: ',mae)\n",
    "print('MSE: ',mse)"
   ]
  },
  {
   "cell_type": "code",
   "execution_count": null,
   "id": "f8de0ed4",
   "metadata": {},
   "outputs": [],
   "source": []
  }
 ],
 "metadata": {
  "kernelspec": {
   "display_name": "Python [conda env:pytorch] *",
   "language": "python",
   "name": "conda-env-pytorch-py"
  },
  "language_info": {
   "codemirror_mode": {
    "name": "ipython",
    "version": 3
   },
   "file_extension": ".py",
   "mimetype": "text/x-python",
   "name": "python",
   "nbconvert_exporter": "python",
   "pygments_lexer": "ipython3",
   "version": "3.6.13"
  }
 },
 "nbformat": 4,
 "nbformat_minor": 5
}
